{
  "cells": [
    {
      "cell_type": "markdown",
      "metadata": {
        "id": "tsD4YVAe_Te2"
      },
      "source": [
        "# Problem 1\n",
        "Bir sayının 7'ye bölünebilir olup olmadığını kontrol etmek \n",
        "için bir program yazın.\n",
        "\n",
        "İpucu: Mod operatörünü (%) kullanabilirsiniz."
      ]
    },
    {
      "cell_type": "code",
      "execution_count": 3,
      "metadata": {
        "id": "NGjvNwKx_Te7"
      },
      "outputs": [
        {
          "name": "stdout",
          "output_type": "stream",
          "text": [
            "5 sayısı 7 ile bölünememektedir.\n"
          ]
        }
      ],
      "source": [
        "# 1.Problemin Çözümünü Buraya Yazınız\n",
        "a = int(input(\"Bir tamsayı giriniz.\"))\n",
        "if a%7 == 0:\n",
        "    print(f\"{a} sayısı 7 ile tam bölünebilmektedir.\")\n",
        "else:\n",
        "    print(f\"{a} sayısı 7 ile bölünememektedir.\")"
      ]
    },
    {
      "cell_type": "markdown",
      "metadata": {
        "id": "Kg3qiBAI_Te8"
      },
      "source": [
        "# Problem 2\n",
        "Kullanıcıdan vize ve final notu isteyin. Girilen vize notunun %40’ı ve \n",
        "girilen finalnotunun ise %60’ı alınarak yıl sonu not ortalaması hesaplanacaktır. \n",
        "\n",
        "Bu not ortalaması eğer 85 ve üzeri ise AA, \n",
        "\n",
        "75 ve 85 arasında ise BA, \n",
        "\n",
        "70 ve 75 arasında ise BB, \n",
        "\n",
        "65 ve 70 arasında ise CB,\n",
        "\n",
        "60 ve 65 arasında ise CC,\n",
        "\n",
        "55 ve 60 arasında ise DC,\n",
        "\n",
        "50 ve 55 arasında ise DD olarak hesaplanacaktır. \n",
        "\n",
        "Bu öğrencinin yıl sonu toplam notu 50’nin altında ise FF ile dersten kalacaktır. \n",
        "\n",
        "Ayrıca öğrencinin final notu 50’nin altında ise direkt FF ile kalacaktır."
      ]
    },
    {
      "cell_type": "code",
      "execution_count": 7,
      "metadata": {
        "id": "MXTtCxI1_Te8"
      },
      "outputs": [
        {
          "name": "stdout",
          "output_type": "stream",
          "text": [
            "Notunuz AA\n"
          ]
        }
      ],
      "source": [
        "# 2.Problemin Çözümünü Buraya Yazınız\n",
        "vize = float(input(\"Vize notunuzu giriniz.\"))\n",
        "final = float(input(\"Final notunuzu giriniz.\"))\n",
        "notOrt = (vize*40/100)+(final*60/100)\n",
        "if final < 50:\n",
        "    print(\"Notunuz FF dersten kaldınız.\")\n",
        "else:\n",
        "    if notOrt >= 85:\n",
        "        print(\"Notunuz AA\")\n",
        "    elif notOrt >= 75 and notOrt < 85:\n",
        "        print(\"Notunuz BA\")\n",
        "    elif notOrt >= 70 and notOrt < 75 :\n",
        "        print(\"Notunuz BB\")\n",
        "    elif notOrt >= 65 and notOrt < 70:\n",
        "        print(\"Notunuz CB\")\n",
        "    elif notOrt >= 60 and notOrt < 65:\n",
        "        print(\"Notunuz CC\")\n",
        "    elif notOrt >= 55 and notOrt < 60:\n",
        "        print(\"Notunuz DC\")\n",
        "    elif notOrt >= 50 and notOrt < 55:\n",
        "        print(\"Notunuz DD\")\n",
        "    elif notOrt < 50:\n",
        "        print(\"Notunuz FF dersten kaldınız\")"
      ]
    },
    {
      "cell_type": "markdown",
      "metadata": {
        "id": "tAoRYCTC_Te8"
      },
      "source": [
        "# Problem 3\n",
        "İki YetGenli Zirve'de karşılaşıyorlar. Birbirlerini tanımak için sorular soruyorlar. Birbirlerine yaşlarını soruyorlar. Akıllarına bir Python programı yazıp, yaşlarını ve isimlerini giriyorlar. Büyük olanın yaşını ekrana yazdıran programı yazıyorlar. Sende bu iki YetGenli'ye destek olmak ister misin?\n",
        "\n",
        "```\n",
        "Birinci YetGenlinin ismi: Ahmet\n",
        "Birinci YetGenlinin yaşı : 20\n",
        "İkinci YetGenlinin ismi: Mehmet\n",
        "İkinci YetGenlinin yaşı : 25\n",
        "Mehmet'in yaşı daha büyük ve yaşı 25'tir.\n",
        "```"
      ]
    },
    {
      "cell_type": "code",
      "execution_count": 9,
      "metadata": {
        "id": "bPjE8W0i_Te8"
      },
      "outputs": [
        {
          "name": "stdout",
          "output_type": "stream",
          "text": [
            "Özgün ve Mert'nin yaşları eşit ve ikisi de 16 yaşında.\n"
          ]
        }
      ],
      "source": [
        "# 3.Problemin Çözümünü Buraya Yazınız\n",
        "isim1 = input(\"İsminizi giriniz.\")\n",
        "yas1 = int(input(\"Yaşınızı giriniz.\"))\n",
        "isim2 = input(\"İsminizi giriniz.\")\n",
        "yas2 = int(input(\"Yaşınızı giriniz.\"))\n",
        "if yas1 > yas2:\n",
        "    print(f\"{isim1}'in yaşı daha büyük ve {yas1} yaşında.\")\n",
        "elif yas1 < yas2:\n",
        "    print(f\"{isim2}'in yaşı daha büyük ve {yas2} yaşında.\")\n",
        "elif yas1 == yas2:\n",
        "    print(f\"{isim1} ve {isim2}'nin yaşları eşit ve ikisi de {yas1} yaşında.\")"
      ]
    },
    {
      "cell_type": "markdown",
      "metadata": {
        "id": "zBVv8Tyg_Te9"
      },
      "source": [
        "# Problem 4\n",
        "Pandemi döneminde AVM'lerde ateş ölçümü yapılıyor. AVM'ye giren kişinin ateş ölçümü 37.5 derecenin altında ise girişe izin veriliyor. 37.5 derecenin üstünde ise girişe izin verilmiyor. AVM'ye girişe izin verilip verilmediğini ekrana yazdıran bir program yazın.\n",
        "\n",
        "Program sonunda şöyle bir çıktı elde etmelisiniz:\n",
        "\n",
        "```\n",
        "Ateşiniz 37.5 derece. AVM'ye girebilirsin! Maske takmayı unutma!\n",
        "Ateşiniz 37.6 derece. AVM'ye giremezsin! Hemen evine dön!\n",
        "```"
      ]
    },
    {
      "cell_type": "code",
      "execution_count": 10,
      "metadata": {
        "id": "TSAXs8et_Te9"
      },
      "outputs": [
        {
          "name": "stdout",
          "output_type": "stream",
          "text": [
            "Ateşiniz 90.0 derece. AVM'ye giremezsin! Evinde dön!\n"
          ]
        }
      ],
      "source": [
        "# 4.Problemin Çözümünü Buraya Yazınız\n",
        "ates = float(input(\"Ateşinizin kaç derece olduğunu giriniz.\"))\n",
        "if ates < 37.5:\n",
        "    print(f\"Ateşiniz {ates} derece. AVM'ye girebilirsin! Maske takmayı unutma!\")\n",
        "elif ates >= 37.5:\n",
        "    print(f\"Ateşiniz {ates} derece. AVM'ye giremezsin! Evinde dön!\")"
      ]
    },
    {
      "cell_type": "markdown",
      "metadata": {
        "id": "6AEkZrDt_Te9"
      },
      "source": [
        "# Problem 5\n",
        "YetGen bir spor kulübüyle sponsorluk anlaşması yapıyor. Kulüp, sponsorluk anlaşmasına göre her YetGen liderinin beden kitle indeksini hesaplamak istiyor. Spor kulübü, beden kitle indeksini hesaplamak için YetGen Jump Python liderlerinden Berkcan ve Ahmet'i arıyor. Berkcan ve Ahmet, kulübe yardımcı olmak için bir Python programı yazıyorlar. Sende bu iki YetGen liderine destek olmak ister misin?\n",
        "\n",
        "Kullanıcıdan alınan boy ve kilo değerlerine göre beden kitle indeksini hesaplayın ve şu kurallara göre ekrana şu yazıları yazdırın.\n",
        "\n",
        "\n",
        "Beden Kitle İndeksi, kişinin ağırlığının (kg olarak) boyunun karesine (m olarak) bölünmesiyle hesaplanır.\n",
        "\n",
        "\n",
        "```\n",
        " BKİ 18.5'un altındaysa -------> Zayıf\n",
        "\n",
        " BKİ 18.5 ile 25 arasındaysa ------> Normal\n",
        "\n",
        " BKİ 25 ile 30 arasındaysa --------> Fazla Kilolu\n",
        "\n",
        " BKİ 30'un üstündeyse -------------> Obez\n",
        "```\n",
        "\n"
      ]
    },
    {
      "cell_type": "code",
      "execution_count": 11,
      "metadata": {
        "id": "t-XPI_u0_Te-"
      },
      "outputs": [
        {
          "name": "stdout",
          "output_type": "stream",
          "text": [
            "Zayıf\n"
          ]
        }
      ],
      "source": [
        "# 5.Problemin Çözümünü Buraya Yazınız\n",
        "agirlik = float(input(\"Kaç kilo olduğunuzu giriniz.\"))\n",
        "boy = float(input(\"Boyunuzu giriniz.\"))\n",
        "bki = agirlik/boy**2\n",
        "if bki <= 18.5:\n",
        "    print(\"Zayıf\")\n",
        "elif bki > 18.5 and bki <= 25:\n",
        "    print(\"Normal\")\n",
        "elif bki > 25 and bki <= 30:\n",
        "    print(\"Fazla Kilolu\")\n",
        "elif bki > 30:\n",
        "    print(\"Obez\")"
      ]
    },
    {
      "cell_type": "markdown",
      "metadata": {
        "id": "oFsvQyaO_Te-"
      },
      "source": [
        "# Problem 6\n",
        "Kullanıcıdan isim, yaş ve eğitim bilgilerini isteyip ehliyet alabilme  durumunu kontrol ediniz. \n",
        "\n",
        "Ehliyet alma koşulu en az 18 yaşında ve eğitim durumu lise ya da üniversite olmalıdır. "
      ]
    },
    {
      "cell_type": "code",
      "execution_count": 13,
      "metadata": {
        "id": "Tu2mcgco_Te-"
      },
      "outputs": [
        {
          "name": "stdout",
          "output_type": "stream",
          "text": [
            "Merhaba Özgün maalesef ehliyet alacak yaşta değilsiniz.\n"
          ]
        }
      ],
      "source": [
        "# 6.Problemin Çözümünü Buraya Yazınız\n",
        "isim = input(\"İsminizi giriniz\")\n",
        "yas = int(input(\"Yaşınızı giriniz.\"))\n",
        "egitim = input(\"Eğitim bilginizi giriniz.\")\n",
        "egitim=egitim.lower\n",
        "if yas < 18:\n",
        "    print(f\"Merhaba {isim} maalesef ehliyet alacak yaşta değilsiniz.\")\n",
        "else:\n",
        "    if egitim == \"lise\" or \"üniversite\":\n",
        "        print(f\"Merhaba {isim} ehliyet alabilirsiniz.\")\n",
        "    else:\n",
        "        print(f\"Merhaba {isim} ehliyet alabilmek için eğitim durumunuzun lise veya üniversite olması gerekmektedir.\")\n"
      ]
    },
    {
      "cell_type": "markdown",
      "metadata": {
        "id": "eUkxVSAE_Te_"
      },
      "source": [
        "# Problem 7\n",
        "Bir yılın artık yıl olup olmadığını kontrol etmek için bir program yazın. \n",
        "Artık yıl kuralı:\n",
        "\n",
        "a) Eğer yılın son iki basamağı (00) ile bitmiyor ve yalnızca 4'e tam bölünüyorsa artık yıldır. Ya da, \n",
        "\n",
        "b) Eğer yıl 400'e tam bölünüyorsa artık yıldır.\n",
        "\n",
        "**Örneğin**\n",
        "```\n",
        "2017 artık yıl değildir.\n",
        "1900 artık yıl değildir\n",
        "2012 artık yıldır.\n",
        "2000 artık yıldır.\n",
        "```"
      ]
    },
    {
      "cell_type": "code",
      "execution_count": 15,
      "metadata": {
        "id": "4uWh8qUL_Te_"
      },
      "outputs": [
        {
          "name": "stdout",
          "output_type": "stream",
          "text": [
            "2021 yılı artık yıl değildir.\n"
          ]
        }
      ],
      "source": [
        "# 7.Problemin Çözümünü Buraya Yazınız\n",
        "yil = int(input(\"Yılı giriniz.\"))\n",
        "if yil%4 == 0:\n",
        "    print(f\"{yil} yılı artık yıldır.\")\n",
        "else:\n",
        "    print(f\"{yil} yılı artık yıl değildir.\")"
      ]
    }
  ],
  "metadata": {
    "colab": {
      "provenance": []
    },
    "kernelspec": {
      "display_name": "Python 3",
      "language": "python",
      "name": "python3"
    },
    "language_info": {
      "codemirror_mode": {
        "name": "ipython",
        "version": 3
      },
      "file_extension": ".py",
      "mimetype": "text/x-python",
      "name": "python",
      "nbconvert_exporter": "python",
      "pygments_lexer": "ipython3",
      "version": "3.11.1"
    },
    "orig_nbformat": 4,
    "vscode": {
      "interpreter": {
        "hash": "701ff2241ceae646732b1645173280069c74bbc33375d604aef0f5f117b7c504"
      }
    }
  },
  "nbformat": 4,
  "nbformat_minor": 0
}
