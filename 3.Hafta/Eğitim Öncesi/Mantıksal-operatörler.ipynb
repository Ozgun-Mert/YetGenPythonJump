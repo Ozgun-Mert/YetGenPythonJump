{
 "cells": [
  {
   "cell_type": "code",
   "execution_count": 1,
   "metadata": {},
   "outputs": [
    {
     "name": "stdout",
     "output_type": "stream",
     "text": [
      "False\n",
      "True\n",
      "False\n"
     ]
    }
   ],
   "source": [
    "#and\n",
    "x = 3\n",
    "print(x > 5 and x<100)\n",
    "x = 6\n",
    "print(x > 5 and x<100)\n",
    "x = 101\n",
    "print(x > 5 and x<100)"
   ]
  },
  {
   "cell_type": "code",
   "execution_count": 2,
   "metadata": {},
   "outputs": [
    {
     "name": "stdout",
     "output_type": "stream",
     "text": [
      "True\n",
      "True\n",
      "False\n"
     ]
    }
   ],
   "source": [
    "#or\n",
    "x = 3\n",
    "print(x<5 or x>100)\n",
    "x = 101\n",
    "print(x<5 or x>100)\n",
    "x = 50\n",
    "print(x<5 or x>100)"
   ]
  },
  {
   "cell_type": "code",
   "execution_count": 4,
   "metadata": {},
   "outputs": [
    {
     "name": "stdout",
     "output_type": "stream",
     "text": [
      "False\n",
      "True\n"
     ]
    }
   ],
   "source": [
    "#not\n",
    "print(not True)\n",
    "print(not False)\n"
   ]
  }
 ],
 "metadata": {
  "kernelspec": {
   "display_name": "Python 3",
   "language": "python",
   "name": "python3"
  },
  "language_info": {
   "codemirror_mode": {
    "name": "ipython",
    "version": 3
   },
   "file_extension": ".py",
   "mimetype": "text/x-python",
   "name": "python",
   "nbconvert_exporter": "python",
   "pygments_lexer": "ipython3",
   "version": "3.11.1"
  },
  "orig_nbformat": 4,
  "vscode": {
   "interpreter": {
    "hash": "701ff2241ceae646732b1645173280069c74bbc33375d604aef0f5f117b7c504"
   }
  }
 },
 "nbformat": 4,
 "nbformat_minor": 2
}
