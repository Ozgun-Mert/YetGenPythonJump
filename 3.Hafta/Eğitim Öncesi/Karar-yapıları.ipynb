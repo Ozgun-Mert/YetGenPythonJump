{
 "cells": [
  {
   "cell_type": "code",
   "execution_count": 1,
   "metadata": {},
   "outputs": [
    {
     "name": "stdout",
     "output_type": "stream",
     "text": [
      "If bloğu çalıştı\n",
      "program sonlandı\n",
      "program sonlandı\n"
     ]
    }
   ],
   "source": [
    "if 3>1:\n",
    "    print(\"If bloğu çalıştı\")\n",
    "print(\"program sonlandı\")\n",
    "if 0>1:\n",
    "    print(\"If bloğu çalıştı\")\n",
    "print(\"program sonlandı\")"
   ]
  },
  {
   "cell_type": "code",
   "execution_count": 2,
   "metadata": {},
   "outputs": [
    {
     "name": "stdout",
     "output_type": "stream",
     "text": [
      "1. sayı 2. sayıdan küçüktür.\n"
     ]
    }
   ],
   "source": [
    "sayi1 = int(input(\"Bir Sayı Giriniz.\"))\n",
    "sayi2 = int(input(\"Bir Sayı Giriniz.\"))\n",
    "if sayi1>sayi2:\n",
    "    print(\"1. sayı 2. sayıdan büyüktür.\")\n",
    "elif sayi1<sayi2:\n",
    "    print(\"1. sayı 2. sayıdan küçüktür.\")\n",
    "else:\n",
    "    print(\"1. sayı 2. sayıya eşittir.\")"
   ]
  },
  {
   "cell_type": "code",
   "execution_count": 3,
   "metadata": {},
   "outputs": [
    {
     "name": "stdout",
     "output_type": "stream",
     "text": [
      "10sayısı 20'den, 20 sayısı 30'den küçüktür.\n"
     ]
    }
   ],
   "source": [
    "a=10\n",
    "b=20\n",
    "c=30\n",
    "if a > b and b > c:\n",
    "    print(f\"{a}sayısı {b}'den, {b} sayısı {c}'den büyüktür.\")\n",
    "elif a < b and b < c:\n",
    "    print(f\"{a}sayısı {b}'den, {b} sayısı {c}'den küçüktür.\")\n",
    "else:\n",
    "    print(\"Bu koşullar doğru değil.\")"
   ]
  },
  {
   "cell_type": "code",
   "execution_count": 5,
   "metadata": {},
   "outputs": [
    {
     "name": "stdout",
     "output_type": "stream",
     "text": [
      "Yokmuş\n"
     ]
    }
   ],
   "source": [
    "isim = \"Özgün\"\n",
    "if \"Şahin\" in isim:\n",
    "    print(\"Varmış\")\n",
    "else:\n",
    "    print(\"Yokmuş\")"
   ]
  }
 ],
 "metadata": {
  "kernelspec": {
   "display_name": "Python 3",
   "language": "python",
   "name": "python3"
  },
  "language_info": {
   "codemirror_mode": {
    "name": "ipython",
    "version": 3
   },
   "file_extension": ".py",
   "mimetype": "text/x-python",
   "name": "python",
   "nbconvert_exporter": "python",
   "pygments_lexer": "ipython3",
   "version": "3.11.1"
  },
  "orig_nbformat": 4,
  "vscode": {
   "interpreter": {
    "hash": "701ff2241ceae646732b1645173280069c74bbc33375d604aef0f5f117b7c504"
   }
  }
 },
 "nbformat": 4,
 "nbformat_minor": 2
}
