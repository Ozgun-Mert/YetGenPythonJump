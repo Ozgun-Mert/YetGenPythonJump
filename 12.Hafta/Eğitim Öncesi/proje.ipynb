{
 "cells": [
  {
   "cell_type": "code",
   "execution_count": null,
   "metadata": {},
   "outputs": [],
   "source": [
    "import random as rn\n",
    "#Müşteri\n",
    "class Musteri():\n",
    "    def __init__(self,isim, yas):\n",
    "        self.isim = isim\n",
    "        self.yas = yas\n",
    "        self.bahsis_olasiligi = 50\n",
    "        self.bakiye = 400\n",
    "        \n",
    "    def urun_al(self):\n",
    "        self.urun_fiyat_toplam = 0\n",
    "        self.alinan_adet = rn.randint(1,10)\n",
    "        for i in range(self.alinan_adet):\n",
    "            self.urun_fiyati = rn.randint(1,100)\n",
    "            self.urun_fiyat_toplam += self.urun_fiyati\n",
    "        self.bahsis_birak()\n",
    "        \n",
    "\n",
    "    def bahsis_birak(self):\n",
    "        self.olasilik = rn.randint(1,100)\n",
    "        if self.olasilik<=self.bahsis_olasiligi:\n",
    "            self.bahsis = rn.randint(1,20)\n",
    "\n",
    "    def ucret_al(self):\n",
    "          self.bakiye += self.urun_fiyat_toplam\n",
    "\n",
    "    def bahsis_al(self):\n",
    "          self.bakiye += self.bahsis\n",
    "\n",
    "    \n",
    "        \n",
    "#\n",
    "#\n",
    "    def veresiye(self):\n",
    "        self.veresiye_olasilik= rn.randint(1,100)\n",
    "        if self.veresiye_olasilik<=50:"
   ]
  }
 ],
 "metadata": {
  "language_info": {
   "name": "python"
  },
  "orig_nbformat": 4
 },
 "nbformat": 4,
 "nbformat_minor": 2
}
