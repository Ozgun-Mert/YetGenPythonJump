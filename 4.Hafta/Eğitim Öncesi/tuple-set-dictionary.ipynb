{
 "cells": [
  {
   "cell_type": "code",
   "execution_count": 1,
   "metadata": {},
   "outputs": [
    {
     "data": {
      "text/plain": [
       "1"
      ]
     },
     "execution_count": 1,
     "metadata": {},
     "output_type": "execute_result"
    }
   ],
   "source": [
    "tuple1 = (1,2,3,4,5,6)\n",
    "tuple1[0]"
   ]
  },
  {
   "cell_type": "code",
   "execution_count": 2,
   "metadata": {},
   "outputs": [
    {
     "name": "stdout",
     "output_type": "stream",
     "text": [
      "{'y', 'a', 'b', 'e', 'c', 'z', 'd'}\n",
      "{'a', 'b', 'c'}\n",
      "{'e', 'd'}\n"
     ]
    }
   ],
   "source": [
    "set1 = {\"a\",\"b\",\"c\",\"d\",\"e\"}\n",
    "set2 = {\"a\",\"b\",\"c\",\"z\",\"y\"}\n",
    "print(set1.union(set2))\n",
    "print(set1.intersection(set2))\n",
    "print(set1.difference(set2))"
   ]
  },
  {
   "cell_type": "code",
   "execution_count": 7,
   "metadata": {},
   "outputs": [
    {
     "name": "stdout",
     "output_type": "stream",
     "text": [
      "{'book': 'kitap', 'table': 'masa'}\n",
      "{'book': 'kitaplar', 'pencil': 'kalem'}\n"
     ]
    }
   ],
   "source": [
    "sozluk={\"book\" : \"kitap\", \"table\" : \"masa\"}\n",
    "print(sozluk)\n",
    "sozluk[\"table\"]\n",
    "sozluk[\"pencil\"]=\"kalem\"\n",
    "sozluk[\"book\"]=\"kitaplar\"\n",
    "del(sozluk[\"table\"])\n",
    "print(sozluk)"
   ]
  }
 ],
 "metadata": {
  "kernelspec": {
   "display_name": "Python 3",
   "language": "python",
   "name": "python3"
  },
  "language_info": {
   "codemirror_mode": {
    "name": "ipython",
    "version": 3
   },
   "file_extension": ".py",
   "mimetype": "text/x-python",
   "name": "python",
   "nbconvert_exporter": "python",
   "pygments_lexer": "ipython3",
   "version": "3.11.1"
  },
  "orig_nbformat": 4
 },
 "nbformat": 4,
 "nbformat_minor": 2
}
