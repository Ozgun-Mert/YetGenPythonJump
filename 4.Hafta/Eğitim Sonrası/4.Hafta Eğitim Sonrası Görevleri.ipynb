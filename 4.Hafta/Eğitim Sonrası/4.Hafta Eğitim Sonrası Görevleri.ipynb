{
 "cells": [
  {
   "cell_type": "markdown",
   "metadata": {},
   "source": [
    "# Problem 1\n",
    "`ogrenciler` adında bir sözlük oluşturunuz. Kullanıcıdan döngü yardımıyla 3 öğrenci için veri girmesini isteyerek öğrencilerin sırasıyla okul numarası, isim, soy isim, telefon numarası ve doğum tarihi bilgilerini alınız. Aldığınız öğrenci bilgilerini yine aynı döngü yardımıyla `ogrenciler` adındaki sözlükte saklayınız. Daha sonra öğrenci bilgilerinin bulunduğu sözlük yapısını ekrana bastırınız.\n",
    "\n"
   ]
  },
  {
   "cell_type": "code",
   "execution_count": 3,
   "metadata": {},
   "outputs": [
    {
     "name": "stdout",
     "output_type": "stream",
     "text": [
      "{1: [1, 'Özgün', 'Şahin', '000000000', '25 05 2006'], 2: [2, 'Mert', 'Şahin', '0000000000', '01 01 2001'], 3: [3, 'Mehmet', 'Mehmet', '00000000', '31 12 2012']}\n"
     ]
    }
   ],
   "source": [
    "# 1.Problemin Çözümünü Buraya Yazınız\n",
    "ogrenciler = dict()\n",
    "for i in range(1,4):\n",
    "    numara = int(input(f\"{i}. öğrencinin okul numarasını giriniz.\"))\n",
    "    isim = input(f\"{i}. öğrencinin ismini giriniz.\")\n",
    "    soyIsim = input(f\"{i}. öğrencinin soy ismini giriniz.\")\n",
    "    telNum = input(f\"{i}. öğrencinin telefon numarasını giriniz.\")\n",
    "    dogum = input(f\"{i}. öğrencinin doğum tarihini giriniz.\")\n",
    "    ogrenciler[i] = [numara , isim , soyIsim , telNum , dogum]\n",
    "\n",
    "print(ogrenciler)"
   ]
  },
  {
   "cell_type": "markdown",
   "metadata": {},
   "source": [
    "# Problem 2\n",
    "\n",
    "### a - Biraz ısınarak başlayalım!\n",
    "\n",
    "```\n",
    "numbers = [5,10,10,15,15,15,20,20,20,20]\n",
    "```\n",
    "\n",
    "Yukarıda `numbers` adında 10 elemanlı bir liste verilmiştir. Bu listenin her elemanını kontrol eden ve tekrar eden elemanları bir kez olacak şekilde başka bir listeye kopyalayan bir program yazınız. Son olarak oluşturduğunuz listeyi ekrana bastırınız.\n",
    "\n",
    "\n",
    "\n",
    "\n",
    "```\n",
    ">Output\n",
    "[5, 10, 15, 20]\n",
    "```\n"
   ]
  },
  {
   "cell_type": "code",
   "execution_count": 5,
   "metadata": {},
   "outputs": [
    {
     "name": "stdout",
     "output_type": "stream",
     "text": [
      "[5, 10, 15, 20]\n"
     ]
    }
   ],
   "source": [
    "# 2.Problemin a Şıkkının Çözümünü Buraya Yazınız\n",
    "numbers = [5,10,10,15,15,15,20,20,20,20]\n",
    "numbers = set(numbers)\n",
    "numbers = list(numbers)\n",
    "numbers.sort()\n",
    "print(numbers)"
   ]
  },
  {
   "cell_type": "markdown",
   "metadata": {},
   "source": [
    "### 🌶️ b) Hadi işi biraz daha zorlaştıralım! \n",
    "\n",
    "\n",
    "Şimdiyse senden `numbers` isimli listedeki tekrar eden elemanları `repeatNumbers` adındaki listeye; tekrar etmeyen elemanları `uniqueNumbers`adındaki listeye kopyalayan yazmanı ve listeleri ekrana bastırmanı bekliyoruz\n",
    "\n",
    "```\n",
    ">Output\n",
    "Tekrar Eden Elemanlar: [10, 10, 15, 15, 15, 20, 20, 20, 20]\n",
    "Tekrar Etmeyen Elemanlar: [5]\n",
    "```"
   ]
  },
  {
   "cell_type": "code",
   "execution_count": 19,
   "metadata": {},
   "outputs": [
    {
     "name": "stdout",
     "output_type": "stream",
     "text": [
      "\n",
      "Tekrar eden elemanlar: [10, 10, 15, 15, 15, 20, 20, 20, 20]\n",
      "Tekrar etmeyen elemanlar: [5]\n",
      "\n"
     ]
    }
   ],
   "source": [
    "# 2.Problemin b Şıkkının Çözümünü Buraya Yazınız\n",
    "numbers = [5,10,10,15,15,15,20,20,20,20]\n",
    "repeatNumbers = list()\n",
    "uniqueNumbers = list()\n",
    "for i in numbers:\n",
    "    a = numbers.count(i)\n",
    "    if a == 1:\n",
    "        uniqueNumbers.append(i)\n",
    "    else:\n",
    "        repeatNumbers.append(i)\n",
    "print(f\"\"\"\n",
    "Tekrar eden elemanlar: {repeatNumbers}\n",
    "Tekrar etmeyen elemanlar: {uniqueNumbers}\n",
    "\"\"\")\n"
   ]
  },
  {
   "cell_type": "markdown",
   "metadata": {},
   "source": [
    "# Problem 3\n",
    "sn1 = {1,2,3,4,5}\n",
    "\n",
    "sn2 = {4,5,6,7,8}\n",
    "\n",
    " Verilen 2 adet küme için kesişimlerini, farklarını ve birleşimlerini bulunuz. "
   ]
  },
  {
   "cell_type": "code",
   "execution_count": 7,
   "metadata": {},
   "outputs": [
    {
     "name": "stdout",
     "output_type": "stream",
     "text": [
      "Birleşimleri: {1, 2, 3, 4, 5, 6, 7, 8}\n",
      "1'in 2'den Farkı: {1, 2, 3}\n",
      "2'nin 1'den Farkı: {8, 6, 7}\n",
      "Kesişimleri: {4, 5}\n"
     ]
    }
   ],
   "source": [
    "# 3.Problemin Çözümünü Buraya Yazınız\n",
    "sn1 = {1,2,3,4,5}\n",
    "sn2 = {4,5,6,7,8}\n",
    "print(f\"Birleşimleri: {sn1.union(sn2)}\")\n",
    "print(f\"\"\"1'in 2'den Farkı: {sn1.difference(sn2)}\n",
    "2'nin 1'den Farkı: {sn2.difference(sn1)}\"\"\")\n",
    "print(f\"Kesişimleri: {sn1.intersection(sn2)}\")"
   ]
  },
  {
   "cell_type": "markdown",
   "metadata": {},
   "source": [
    "# Problem 4\n",
    "\n",
    "Buradaki işlemlerimizin tamamı stringler içindir. Aşağıda verilecek olan metodlar için kendinizin örnek yaratması gerekmektedir. \n",
    "\n",
    "Örneğin `upper` için `string` değişkeni oluştururken` k = \"BAC\"` şeklinde oluşturmayınız. Bunun yerine k değişkenini `k = \"bac`\" şeklinde oluşturmanız `upper` metodundaki değişimi görebilmeniz için daha iyi olacaktır.\n",
    "\n",
    "Bütün metodlardaki değişimin gözle görülür şekilde değişimi beklenmektedir.\n",
    "\n",
    "\n",
    "1- capitalize(), lower(), upper(), swapcase(), title(), replace()\n",
    "\n",
    "2- endswith(), startswith(), find(), index(), count()\n",
    "\n",
    "3- split(), strip(), join(), islower(), isalpha(), isdigit()\n",
    "\n",
    "\n",
    "Yukarıdaki `string` metodlarındaki değişimleri görebildiğimiz bir program yazınız.\n"
   ]
  },
  {
   "cell_type": "code",
   "execution_count": 18,
   "metadata": {},
   "outputs": [
    {
     "name": "stdout",
     "output_type": "stream",
     "text": [
      "Mert\n",
      "MERT\n",
      "mert\n",
      "mErT\n",
      "Ozgun Mert Sahin\n",
      "Pert\n",
      "True\n",
      "True\n",
      "2\n",
      "3\n",
      "['Özgün', 'Mert', 'Şahin']\n",
      "Selam\n",
      "AÖzgünB\n",
      "True\n",
      "True\n",
      "True\n"
     ]
    }
   ],
   "source": [
    "# 4.Problemin Çözümünü Buraya Yazınız\n",
    "a = \"mERT\"\n",
    "print(a.capitalize())\n",
    "a = \"mert\"\n",
    "print(a.upper())\n",
    "a = \"MERT\"\n",
    "print(a.lower())\n",
    "a = \"MeRt\"\n",
    "print(a.swapcase())\n",
    "a = \"oZGUN mERT sahin\"\n",
    "print(a.title())\n",
    "a = \"Mert\"\n",
    "print(a.replace(\"M\",\"P\"))\n",
    "a = \"Mert\"\n",
    "print(a.endswith(\"rt\"))\n",
    "print(a.startswith(\"Me\"))\n",
    "print(a.find(\"r\"))\n",
    "a = \"aaaaabbaab\"\n",
    "print(a.count(\"b\"))\n",
    "a = \"Özgün Mert Şahin\"\n",
    "print(a.split())\n",
    "a = \"                Selam          \"\n",
    "print(a.strip())\n",
    "a = \"Özgün\"\n",
    "print(a.join(\"AB\"))\n",
    "a = \"mert\"\n",
    "print(a.islower())\n",
    "print(a.isalpha())\n",
    "a = \"123\"\n",
    "print(a.isdigit())"
   ]
  }
 ],
 "metadata": {
  "kernelspec": {
   "display_name": "Python 3.10.5 64-bit",
   "language": "python",
   "name": "python3"
  },
  "language_info": {
   "codemirror_mode": {
    "name": "ipython",
    "version": 3
   },
   "file_extension": ".py",
   "mimetype": "text/x-python",
   "name": "python",
   "nbconvert_exporter": "python",
   "pygments_lexer": "ipython3",
   "version": "3.11.1"
  },
  "orig_nbformat": 4,
  "vscode": {
   "interpreter": {
    "hash": "5026d2d6e7aaaaba093def813beadff083d8733e4a511af01735cbabd156995d"
   }
  }
 },
 "nbformat": 4,
 "nbformat_minor": 2
}
