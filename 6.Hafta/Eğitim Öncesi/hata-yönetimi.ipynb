{
 "cells": [
  {
   "cell_type": "code",
   "execution_count": 1,
   "metadata": {},
   "outputs": [
    {
     "ename": "NameError",
     "evalue": "name 'a' is not defined",
     "output_type": "error",
     "traceback": [
      "\u001b[1;31m---------------------------------------------------------------------------\u001b[0m",
      "\u001b[1;31mNameError\u001b[0m                                 Traceback (most recent call last)",
      "Cell \u001b[1;32mIn[1], line 1\u001b[0m\n\u001b[1;32m----> 1\u001b[0m \u001b[39mprint\u001b[39m(a)\n",
      "\u001b[1;31mNameError\u001b[0m: name 'a' is not defined"
     ]
    }
   ],
   "source": [
    "print(a)"
   ]
  },
  {
   "cell_type": "code",
   "execution_count": 2,
   "metadata": {},
   "outputs": [
    {
     "ename": "ZeroDivisionError",
     "evalue": "division by zero",
     "output_type": "error",
     "traceback": [
      "\u001b[1;31m---------------------------------------------------------------------------\u001b[0m",
      "\u001b[1;31mZeroDivisionError\u001b[0m                         Traceback (most recent call last)",
      "Cell \u001b[1;32mIn[2], line 1\u001b[0m\n\u001b[1;32m----> 1\u001b[0m \u001b[39mprint\u001b[39m(\u001b[39m2\u001b[39;49m\u001b[39m/\u001b[39;49m\u001b[39m0\u001b[39;49m)\n",
      "\u001b[1;31mZeroDivisionError\u001b[0m: division by zero"
     ]
    }
   ],
   "source": [
    "print(2/0)"
   ]
  },
  {
   "cell_type": "code",
   "execution_count": 3,
   "metadata": {},
   "outputs": [
    {
     "ename": "SyntaxError",
     "evalue": "Missing parentheses in call to 'print'. Did you mean print(...)? (1102733757.py, line 1)",
     "output_type": "error",
     "traceback": [
      "\u001b[1;36m  Cell \u001b[1;32mIn[3], line 1\u001b[1;36m\u001b[0m\n\u001b[1;33m    print \"Merhaba\"\u001b[0m\n\u001b[1;37m    ^\u001b[0m\n\u001b[1;31mSyntaxError\u001b[0m\u001b[1;31m:\u001b[0m Missing parentheses in call to 'print'. Did you mean print(...)?\n"
     ]
    }
   ],
   "source": [
    "print \"Merhaba\""
   ]
  },
  {
   "cell_type": "code",
   "execution_count": 4,
   "metadata": {},
   "outputs": [
    {
     "name": "stdout",
     "output_type": "stream",
     "text": [
      "Hata Oluştu\n"
     ]
    }
   ],
   "source": [
    "try:\n",
    "    a = int(\"abcd\")\n",
    "    print(\"Program burada\")\n",
    "except:\n",
    "    print(\"Hata Oluştu\")"
   ]
  },
  {
   "cell_type": "code",
   "execution_count": 5,
   "metadata": {},
   "outputs": [
    {
     "name": "stdout",
     "output_type": "stream",
     "text": [
      "Hata oluştu\n"
     ]
    }
   ],
   "source": [
    "try:\n",
    "    a = int(\"abcd\")\n",
    "except ValueError:\n",
    "    print(\"Hata oluştu\")\n"
   ]
  },
  {
   "cell_type": "code",
   "execution_count": 6,
   "metadata": {},
   "outputs": [
    {
     "name": "stdout",
     "output_type": "stream",
     "text": [
      "1.6666666666666667\n",
      "program çalıştı\n"
     ]
    }
   ],
   "source": [
    "try:\n",
    "    a = int(input(\"Sayi 1:\"))\n",
    "    b = int(input(\"Sayi 2: \"))\n",
    "    print(a/b)\n",
    "except ZeroDivisionError:\n",
    "    print(\"Sayı sıfıra bölünemez\")\n",
    "except ValueError:\n",
    "    print(\"Yanlış değer girdiniz\")\n",
    "else:\n",
    "    print(\"program çalıştı\")"
   ]
  },
  {
   "cell_type": "code",
   "execution_count": 7,
   "metadata": {},
   "outputs": [
    {
     "name": "stdout",
     "output_type": "stream",
     "text": [
      "Sayı sıfıra bölünemez\n",
      "Program sona erdi\n"
     ]
    }
   ],
   "source": [
    "try:\n",
    "    a = int(input(\"Sayi 1:\"))\n",
    "    b = int(input(\"Sayi 2: \"))\n",
    "    print(a/b)\n",
    "except ZeroDivisionError:\n",
    "    print(\"Sayı sıfıra bölünemez\")\n",
    "except ValueError:\n",
    "    print(\"Yanlış değer girdiniz\")\n",
    "finally:\n",
    "    print(\"Program sona erdi\")"
   ]
  },
  {
   "cell_type": "code",
   "execution_count": 10,
   "metadata": {},
   "outputs": [
    {
     "ename": "ValueError",
     "evalue": "lütfen doğru input giriniz.",
     "output_type": "error",
     "traceback": [
      "\u001b[1;31m---------------------------------------------------------------------------\u001b[0m",
      "\u001b[1;31mValueError\u001b[0m                                Traceback (most recent call last)",
      "Cell \u001b[1;32mIn[10], line 8\u001b[0m\n\u001b[0;32m      4\u001b[0m     \u001b[39melse\u001b[39;00m:\n\u001b[0;32m      5\u001b[0m         \u001b[39mreturn\u001b[39;00m s[::\u001b[39m-\u001b[39m\u001b[39m1\u001b[39m]\n\u001b[1;32m----> 8\u001b[0m \u001b[39mprint\u001b[39m(tersCevir(\u001b[39m12\u001b[39;49m))\n",
      "Cell \u001b[1;32mIn[10], line 3\u001b[0m, in \u001b[0;36mtersCevir\u001b[1;34m(s)\u001b[0m\n\u001b[0;32m      1\u001b[0m \u001b[39mdef\u001b[39;00m \u001b[39mtersCevir\u001b[39m(s):\n\u001b[0;32m      2\u001b[0m     \u001b[39mif\u001b[39;00m(\u001b[39mtype\u001b[39m(s) \u001b[39m!=\u001b[39m \u001b[39mstr\u001b[39m):\n\u001b[1;32m----> 3\u001b[0m         \u001b[39mraise\u001b[39;00m \u001b[39mValueError\u001b[39;00m(\u001b[39m\"\u001b[39m\u001b[39mlütfen doğru input giriniz.\u001b[39m\u001b[39m\"\u001b[39m)\n\u001b[0;32m      4\u001b[0m     \u001b[39melse\u001b[39;00m:\n\u001b[0;32m      5\u001b[0m         \u001b[39mreturn\u001b[39;00m s[::\u001b[39m-\u001b[39m\u001b[39m1\u001b[39m]\n",
      "\u001b[1;31mValueError\u001b[0m: lütfen doğru input giriniz."
     ]
    }
   ],
   "source": [
    "def tersCevir(s):\n",
    "    if(type(s) != str):\n",
    "        raise ValueError(\"lütfen doğru input giriniz.\")\n",
    "    else:\n",
    "        return s[::-1]\n",
    "    \n",
    "\n",
    "print(tersCevir(12))\n"
   ]
  }
 ],
 "metadata": {
  "kernelspec": {
   "display_name": "Python 3",
   "language": "python",
   "name": "python3"
  },
  "language_info": {
   "codemirror_mode": {
    "name": "ipython",
    "version": 3
   },
   "file_extension": ".py",
   "mimetype": "text/x-python",
   "name": "python",
   "nbconvert_exporter": "python",
   "pygments_lexer": "ipython3",
   "version": "3.11.1"
  },
  "orig_nbformat": 4
 },
 "nbformat": 4,
 "nbformat_minor": 2
}
