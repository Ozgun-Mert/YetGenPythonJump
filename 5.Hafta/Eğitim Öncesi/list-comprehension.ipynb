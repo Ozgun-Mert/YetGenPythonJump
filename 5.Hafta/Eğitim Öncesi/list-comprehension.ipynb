{
 "cells": [
  {
   "cell_type": "code",
   "execution_count": 1,
   "metadata": {},
   "outputs": [
    {
     "name": "stdout",
     "output_type": "stream",
     "text": [
      "[1, 4, 9, 16, 25, 36, 49, 64, 81, 100]\n"
     ]
    }
   ],
   "source": [
    "#Klasik Yöntem\n",
    "liste = [1,2,3,4,5,6,7,8,9,10]\n",
    "yeniListe = []\n",
    "for i in liste:\n",
    "    yeniListe.append(i*i)\n",
    "print(yeniListe)"
   ]
  },
  {
   "cell_type": "code",
   "execution_count": 2,
   "metadata": {},
   "outputs": [
    {
     "name": "stdout",
     "output_type": "stream",
     "text": [
      "[1, 4, 9, 16, 25, 36, 49, 64, 81, 100]\n"
     ]
    }
   ],
   "source": [
    "#List Comprehension\n",
    "liste = [1,2,3,4,5,6,7,8,9,10]\n",
    "yeniListe = [i * i for i in liste]\n",
    "print(yeniListe)"
   ]
  },
  {
   "cell_type": "code",
   "execution_count": 4,
   "metadata": {},
   "outputs": [
    {
     "name": "stdout",
     "output_type": "stream",
     "text": [
      "[1, 2, 3, 4, 5, 6, 7, 8, 9, 10, 11, 12, 13, 14, 15]\n"
     ]
    }
   ],
   "source": [
    "liste = [[1,2,3],[4,5,6,7,8],[9,10,11,12,13,14,15]]\n",
    "liste2 = [x for i in liste for x in i]\n",
    "print(liste2)"
   ]
  },
  {
   "cell_type": "code",
   "execution_count": 6,
   "metadata": {},
   "outputs": [
    {
     "name": "stdout",
     "output_type": "stream",
     "text": [
      "[1, 2, 3, 5, 6, 7, 8, 10]\n"
     ]
    }
   ],
   "source": [
    "liste1 = [1,2,3,4,5,6,7,8,9,10]\n",
    "liste2 = [i for i in liste1 if not(i==4 or i==9)]\n",
    "print(liste2)"
   ]
  }
 ],
 "metadata": {
  "kernelspec": {
   "display_name": "Python 3",
   "language": "python",
   "name": "python3"
  },
  "language_info": {
   "codemirror_mode": {
    "name": "ipython",
    "version": 3
   },
   "file_extension": ".py",
   "mimetype": "text/x-python",
   "name": "python",
   "nbconvert_exporter": "python",
   "pygments_lexer": "ipython3",
   "version": "3.11.1"
  },
  "orig_nbformat": 4
 },
 "nbformat": 4,
 "nbformat_minor": 2
}
