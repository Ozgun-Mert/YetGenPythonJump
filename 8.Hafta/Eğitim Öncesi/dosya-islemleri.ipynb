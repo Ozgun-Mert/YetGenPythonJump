{
 "cells": [
  {
   "attachments": {},
   "cell_type": "markdown",
   "metadata": {},
   "source": [
    "## Okuma İşlemleri "
   ]
  },
  {
   "cell_type": "code",
   "execution_count": 1,
   "metadata": {},
   "outputs": [
    {
     "name": "stdout",
     "output_type": "stream",
     "text": [
      "<_io.TextIOWrapper name='deneme.txt' mode='r' encoding='cp65001'>\n"
     ]
    }
   ],
   "source": [
    "f = open(\"deneme.txt\")\n",
    "print(f)"
   ]
  },
  {
   "cell_type": "code",
   "execution_count": 2,
   "metadata": {},
   "outputs": [
    {
     "name": "stdout",
     "output_type": "stream",
     "text": [
      "<_io.TextIOWrapper name='deneme.txt' mode='r' encoding='utf-8'>\n"
     ]
    }
   ],
   "source": [
    "f = open(\"deneme.txt\", \"r\",encoding=\"utf-8\")\n",
    "print(f)"
   ]
  },
  {
   "cell_type": "code",
   "execution_count": 3,
   "metadata": {},
   "outputs": [
    {
     "name": "stdout",
     "output_type": "stream",
     "text": [
      "Yetgen\n",
      "\n",
      "Python\n",
      "\n",
      "Jump\n",
      "\n",
      "2\n"
     ]
    }
   ],
   "source": [
    "file = open(\"deneme.txt\", \"r\",encoding=\"utf-8\")\n",
    "for i in file:\n",
    "    print(i)"
   ]
  },
  {
   "cell_type": "code",
   "execution_count": 5,
   "metadata": {},
   "outputs": [
    {
     "name": "stdout",
     "output_type": "stream",
     "text": [
      "Yetgen\n",
      "Python\n",
      "Jump\n",
      "2\n",
      "\n"
     ]
    }
   ],
   "source": [
    "file = open(\"deneme.txt\", \"r\",encoding=\"utf-8\")\n",
    "print(file.read())\n",
    "print(file.read())"
   ]
  },
  {
   "cell_type": "code",
   "execution_count": 9,
   "metadata": {},
   "outputs": [
    {
     "name": "stdout",
     "output_type": "stream",
     "text": [
      "Yetgen\n",
      "\n",
      "Python\n",
      "\n",
      "Jump\n",
      "\n",
      "2\n",
      "\n"
     ]
    }
   ],
   "source": [
    "file = open(\"deneme.txt\", \"r\",encoding=\"utf-8\")\n",
    "print(file.readline())\n",
    "print(file.readline())\n",
    "print(file.readline())\n",
    "print(file.readline())\n",
    "print(file.readline())\n",
    "file.close()"
   ]
  },
  {
   "cell_type": "code",
   "execution_count": 10,
   "metadata": {},
   "outputs": [
    {
     "name": "stdout",
     "output_type": "stream",
     "text": [
      "['Yetgen\\n', 'Python\\n', 'Jump\\n', '2']\n"
     ]
    }
   ],
   "source": [
    "file = open(\"deneme.txt\", \"r\",encoding=\"utf-8\")\n",
    "print(file.readlines())\n",
    "file.close()"
   ]
  },
  {
   "attachments": {},
   "cell_type": "markdown",
   "metadata": {},
   "source": [
    "## Yazma İşlemleri"
   ]
  },
  {
   "cell_type": "code",
   "execution_count": 19,
   "metadata": {},
   "outputs": [],
   "source": [
    "file = open(\"deneme.txt\", \"w\",encoding=\"utf-8\")\n",
    "file.write(\"Yetgen\\n\")\n",
    "file.close()"
   ]
  },
  {
   "cell_type": "code",
   "execution_count": 20,
   "metadata": {},
   "outputs": [],
   "source": [
    "file = open(\"deneme.txt\", \"a\",encoding=\"utf-8\")\n",
    "file.write(\"Jump\\n\")\n",
    "file.close()"
   ]
  },
  {
   "cell_type": "code",
   "execution_count": 17,
   "metadata": {},
   "outputs": [],
   "source": [
    "file = open(\"deneme.txt\", \"r+\",encoding=\"utf-8\")\n",
    "file.write(\"Jump\\n\")\n",
    "file.close()"
   ]
  },
  {
   "cell_type": "code",
   "execution_count": 21,
   "metadata": {},
   "outputs": [
    {
     "name": "stdout",
     "output_type": "stream",
     "text": [
      "Yetgen\n",
      "\n",
      "Jump\n",
      "\n"
     ]
    }
   ],
   "source": [
    "with open(\"deneme.txt\", \"r+\",encoding=\"utf-8\") as file:\n",
    "    for i in file:\n",
    "        print(i)"
   ]
  },
  {
   "cell_type": "code",
   "execution_count": 23,
   "metadata": {},
   "outputs": [
    {
     "name": "stdout",
     "output_type": "stream",
     "text": [
      "20\n"
     ]
    }
   ],
   "source": [
    "with open(\"deneme.txt\", \"r+\",encoding=\"utf-8\") as file:\n",
    "    file.seek(20)\n",
    "    print(file.tell())"
   ]
  }
 ],
 "metadata": {
  "kernelspec": {
   "display_name": "Python 3",
   "language": "python",
   "name": "python3"
  },
  "language_info": {
   "codemirror_mode": {
    "name": "ipython",
    "version": 3
   },
   "file_extension": ".py",
   "mimetype": "text/x-python",
   "name": "python",
   "nbconvert_exporter": "python",
   "pygments_lexer": "ipython3",
   "version": "3.11.1"
  },
  "orig_nbformat": 4
 },
 "nbformat": 4,
 "nbformat_minor": 2
}
