{
 "cells": [
  {
   "cell_type": "code",
   "execution_count": 1,
   "metadata": {},
   "outputs": [],
   "source": [
    "with open(\"deneme.txt\", \"r+\",encoding=\"utf-8\") as file:\n",
    "    file.seek(10)\n",
    "    file.write(\"deneme\")"
   ]
  },
  {
   "cell_type": "code",
   "execution_count": 2,
   "metadata": {},
   "outputs": [
    {
     "name": "stdout",
     "output_type": "stream",
     "text": [
      "Yetgen\n",
      "Judeneme\n"
     ]
    }
   ],
   "source": [
    "with open(\"deneme.txt\", \"r+\",encoding=\"utf-8\") as file:\n",
    "    print(file.read())"
   ]
  },
  {
   "cell_type": "code",
   "execution_count": 3,
   "metadata": {},
   "outputs": [],
   "source": [
    "with open(\"deneme.txt\", \"r+\",encoding=\"utf-8\") as file:\n",
    "    icerik = file.read()\n",
    "    icerik = \"deneme\\n\" + icerik\n",
    "    file.seek(0)\n",
    "    file.write(icerik)"
   ]
  },
  {
   "cell_type": "code",
   "execution_count": 4,
   "metadata": {},
   "outputs": [
    {
     "name": "stdout",
     "output_type": "stream",
     "text": [
      "deneme\n",
      "Yetgen\n",
      "Judeneme\n"
     ]
    }
   ],
   "source": [
    "with open(\"deneme.txt\", \"r+\",encoding=\"utf-8\") as file:\n",
    "    print(file.read())"
   ]
  },
  {
   "cell_type": "code",
   "execution_count": 5,
   "metadata": {},
   "outputs": [],
   "source": [
    "with open(\"deneme.txt\", \"r+\",encoding=\"utf-8\") as file:\n",
    "    liste = file.readlines()\n",
    "    liste.insert(3, \"deneme\\n\")\n",
    "    file.seek(0)\n",
    "    file.writelines(liste)"
   ]
  },
  {
   "cell_type": "code",
   "execution_count": 6,
   "metadata": {},
   "outputs": [
    {
     "name": "stdout",
     "output_type": "stream",
     "text": [
      "deneme\n",
      "Yetgen\n",
      "Judenemedeneme\n",
      "\n"
     ]
    }
   ],
   "source": [
    "with open(\"deneme.txt\", \"r+\",encoding=\"utf-8\") as file:\n",
    "    print(file.read())"
   ]
  }
 ],
 "metadata": {
  "kernelspec": {
   "display_name": "Python 3",
   "language": "python",
   "name": "python3"
  },
  "language_info": {
   "codemirror_mode": {
    "name": "ipython",
    "version": 3
   },
   "file_extension": ".py",
   "mimetype": "text/x-python",
   "name": "python",
   "nbconvert_exporter": "python",
   "pygments_lexer": "ipython3",
   "version": "3.11.1"
  },
  "orig_nbformat": 4
 },
 "nbformat": 4,
 "nbformat_minor": 2
}
