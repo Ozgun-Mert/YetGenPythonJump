{
 "cells": [
  {
   "cell_type": "code",
   "execution_count": 2,
   "metadata": {},
   "outputs": [],
   "source": [
    "class Person:\n",
    "    def __init__(self, name, surname, age):\n",
    "        self.name = name\n",
    "        self.surname = surname\n",
    "        self.age = age\n",
    "    def intro(self):\n",
    "        print(self.name, self.surname, self.age)\n",
    "\n",
    "class Student(Person):\n",
    "    def __init__(self, name, surname, age,number):\n",
    "        super().__init__(name, surname, age)\n",
    "        self.number = number\n",
    "    def intro(self):\n",
    "        print(self.name, self.surname, self.age, self.number)\n",
    "    def study(self):\n",
    "        print(f\"{self.name} isimli öğrenci çalışıyor\")\n",
    "\n",
    "class Teacher(Person):\n",
    "    def __init__(self, name, surname, age, branch):\n",
    "        super().__init__(name, surname, age)\n",
    "        self.branch = branch\n",
    "    def teach(self):\n",
    "        print(f\"{self.name} isimli öğretmen öğrencilere ders öğretiyor.\")"
   ]
  },
  {
   "cell_type": "code",
   "execution_count": 3,
   "metadata": {},
   "outputs": [
    {
     "name": "stdout",
     "output_type": "stream",
     "text": [
      "Özgün Şahin 160\n"
     ]
    }
   ],
   "source": [
    "p1 = Person(\"Özgün\", \"Şahin\", 160)\n",
    "p1.intro()"
   ]
  },
  {
   "cell_type": "code",
   "execution_count": 4,
   "metadata": {},
   "outputs": [
    {
     "name": "stdout",
     "output_type": "stream",
     "text": [
      "Mert Şahin 17 946\n",
      "Mert isimli öğrenci çalışıyor\n"
     ]
    }
   ],
   "source": [
    "s1 = Student(\"Mert\", \"Şahin\", 17, 946)\n",
    "s1.intro()\n",
    "s1.study()"
   ]
  },
  {
   "cell_type": "code",
   "execution_count": 5,
   "metadata": {},
   "outputs": [
    {
     "name": "stdout",
     "output_type": "stream",
     "text": [
      "Şahin Özgün 25\n",
      "Şahin isimli öğretmen öğrencilere ders öğretiyor.\n"
     ]
    }
   ],
   "source": [
    "t1 = Teacher(\"Şahin\", \"Özgün\", 25, \"Python\")\n",
    "t1.intro()\n",
    "t1.teach()"
   ]
  }
 ],
 "metadata": {
  "kernelspec": {
   "display_name": "Python 3",
   "language": "python",
   "name": "python3"
  },
  "language_info": {
   "codemirror_mode": {
    "name": "ipython",
    "version": 3
   },
   "file_extension": ".py",
   "mimetype": "text/x-python",
   "name": "python",
   "nbconvert_exporter": "python",
   "pygments_lexer": "ipython3",
   "version": "3.11.1"
  },
  "orig_nbformat": 4
 },
 "nbformat": 4,
 "nbformat_minor": 2
}
