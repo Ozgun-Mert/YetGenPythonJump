{
 "cells": [
  {
   "cell_type": "code",
   "execution_count": 1,
   "metadata": {},
   "outputs": [],
   "source": [
    "class Yazilimci():\n",
    "    def __init__(self, isim, soyisim, numara, maas, diller):\n",
    "        self.isim = isim\n",
    "        self.soyisim = soyisim\n",
    "        self.numara = numara\n",
    "        self.maas = maas\n",
    "        self.diller = diller\n",
    "    \n",
    "    def bilgi_goster(self):\n",
    "        print(f\"\"\"\n",
    "        Çalışan Bilgisi:\n",
    "            İsim: {self.isim}\n",
    "            Soy İsim: {self.soyisim}\n",
    "            Numara: {self.numara}\n",
    "            Maaş: {self.maas}\n",
    "            Bildiği Diller: {self.diller}\n",
    "        \"\"\")\n",
    "\n",
    "    def dil_ekle(self, dil):\n",
    "        self.diller.append(dil)\n",
    "        print(\"Dil Eklendi.\")\n",
    "    \n",
    "    def maas_arttir(self, zam):\n",
    "        self.maas += zam\n",
    "        print(\"Zam yapıldı.\")"
   ]
  },
  {
   "cell_type": "code",
   "execution_count": 2,
   "metadata": {},
   "outputs": [
    {
     "name": "stdout",
     "output_type": "stream",
     "text": [
      "\n",
      "        Çalışan Bilgisi:\n",
      "            İsim: Özgün Mert\n",
      "            Soy İsim: Şahin\n",
      "            Numara: 12345\n",
      "            Maaş: 10000\n",
      "            Bildiği Diller: ['Python', 'Flutter', 'HTML', 'CSS', 'JS']\n",
      "        \n"
     ]
    }
   ],
   "source": [
    "Yazilimci = Yazilimci(\"Özgün Mert\", \"Şahin\", 12345, 10000, [\"Python\", \"Flutter\", \"HTML\", \"CSS\", \"JS\"])\n",
    "Yazilimci.bilgi_goster()"
   ]
  },
  {
   "cell_type": "code",
   "execution_count": 3,
   "metadata": {},
   "outputs": [
    {
     "name": "stdout",
     "output_type": "stream",
     "text": [
      "Zam yapıldı.\n",
      "\n",
      "        Çalışan Bilgisi:\n",
      "            İsim: Özgün Mert\n",
      "            Soy İsim: Şahin\n",
      "            Numara: 12345\n",
      "            Maaş: 11000\n",
      "            Bildiği Diller: ['Python', 'Flutter', 'HTML', 'CSS', 'JS']\n",
      "        \n"
     ]
    }
   ],
   "source": [
    "Yazilimci.maas_arttir(1000)\n",
    "Yazilimci.bilgi_goster()"
   ]
  }
 ],
 "metadata": {
  "kernelspec": {
   "display_name": "Python 3",
   "language": "python",
   "name": "python3"
  },
  "language_info": {
   "codemirror_mode": {
    "name": "ipython",
    "version": 3
   },
   "file_extension": ".py",
   "mimetype": "text/x-python",
   "name": "python",
   "nbconvert_exporter": "python",
   "pygments_lexer": "ipython3",
   "version": "3.11.1"
  },
  "orig_nbformat": 4
 },
 "nbformat": 4,
 "nbformat_minor": 2
}
