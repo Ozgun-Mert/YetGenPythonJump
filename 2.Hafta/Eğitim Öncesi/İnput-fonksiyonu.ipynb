{
 "cells": [
  {
   "cell_type": "code",
   "execution_count": 1,
   "metadata": {},
   "outputs": [
    {
     "name": "stdout",
     "output_type": "stream",
     "text": [
      "MerhabaÖzgün\n"
     ]
    }
   ],
   "source": [
    "isim = input(\"İsim giriniz...\")\n",
    "print(f\"Merhaba {isim}\")"
   ]
  },
  {
   "cell_type": "code",
   "execution_count": 2,
   "metadata": {},
   "outputs": [
    {
     "name": "stdout",
     "output_type": "stream",
     "text": [
      "7\n",
      "2 + 5 = 7\n"
     ]
    }
   ],
   "source": [
    "sayi1 = int(input(\"Birinci Sayıyı Giriniz\"))\n",
    "sayi2 = int(input(\"İkinci Sayıyı Giriniz\"))\n",
    "print(sayi1+sayi2)\n",
    "print(f\"{sayi1} + {sayi2} = {sayi2+sayi1}\")"
   ]
  }
 ],
 "metadata": {
  "kernelspec": {
   "display_name": "Python 3",
   "language": "python",
   "name": "python3"
  },
  "language_info": {
   "codemirror_mode": {
    "name": "ipython",
    "version": 3
   },
   "file_extension": ".py",
   "mimetype": "text/x-python",
   "name": "python",
   "nbconvert_exporter": "python",
   "pygments_lexer": "ipython3",
   "version": "3.11.1"
  },
  "orig_nbformat": 4,
  "vscode": {
   "interpreter": {
    "hash": "701ff2241ceae646732b1645173280069c74bbc33375d604aef0f5f117b7c504"
   }
  }
 },
 "nbformat": 4,
 "nbformat_minor": 2
}
