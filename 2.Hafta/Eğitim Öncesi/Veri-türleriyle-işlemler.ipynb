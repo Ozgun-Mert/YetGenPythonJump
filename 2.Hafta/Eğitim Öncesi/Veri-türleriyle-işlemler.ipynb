{
 "cells": [
  {
   "cell_type": "code",
   "execution_count": 6,
   "metadata": {},
   "outputs": [
    {
     "name": "stdout",
     "output_type": "stream",
     "text": [
      "7\n",
      "1\n",
      "12\n",
      "1.3333333333333333\n",
      "64\n",
      "1\n",
      "1\n"
     ]
    }
   ],
   "source": [
    "a = 4\n",
    "b = 3\n",
    "print(a+b)\n",
    "print(a-b)\n",
    "print(a*b)\n",
    "print(a/b)\n",
    "print(a**b)\n",
    "print(a%b)\n",
    "print(a//b)"
   ]
  },
  {
   "cell_type": "code",
   "execution_count": 7,
   "metadata": {},
   "outputs": [
    {
     "name": "stdout",
     "output_type": "stream",
     "text": [
      "Merhaba Python\n",
      "M\n",
      "n\n"
     ]
    }
   ],
   "source": [
    "degisken = \"Merhaba Python\"\n",
    "print(degisken)\n",
    "print(degisken[0])\n",
    "print(degisken[-1])"
   ]
  },
  {
   "cell_type": "code",
   "execution_count": 8,
   "metadata": {},
   "outputs": [
    {
     "name": "stdout",
     "output_type": "stream",
     "text": [
      "Özgün Mert Şahin\n",
      "Özgün Mert   Şahin   16\n",
      "Özgün Mert Şahin 16\n"
     ]
    }
   ],
   "source": [
    "isim = \"Özgün Mert\"\n",
    "soyisim = \"Şahin\"\n",
    "yas = 16\n",
    "print(isim + \" \" + soyisim)\n",
    "print(isim, \" \", soyisim, \" \", yas)\n",
    "print(f\"{isim} {soyisim} {yas}\")"
   ]
  }
 ],
 "metadata": {
  "kernelspec": {
   "display_name": "Python 3",
   "language": "python",
   "name": "python3"
  },
  "language_info": {
   "codemirror_mode": {
    "name": "ipython",
    "version": 3
   },
   "file_extension": ".py",
   "mimetype": "text/x-python",
   "name": "python",
   "nbconvert_exporter": "python",
   "pygments_lexer": "ipython3",
   "version": "3.11.1"
  },
  "orig_nbformat": 4,
  "vscode": {
   "interpreter": {
    "hash": "701ff2241ceae646732b1645173280069c74bbc33375d604aef0f5f117b7c504"
   }
  }
 },
 "nbformat": 4,
 "nbformat_minor": 2
}
