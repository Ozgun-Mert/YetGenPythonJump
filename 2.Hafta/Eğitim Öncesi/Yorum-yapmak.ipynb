{
 "cells": [
  {
   "cell_type": "code",
   "execution_count": 5,
   "metadata": {},
   "outputs": [
    {
     "name": "stdout",
     "output_type": "stream",
     "text": [
      "Ocak aynında hava çok soğuk\n"
     ]
    }
   ],
   "source": [
    "# Tekli Yorum Satırı\n",
    "\n",
    "print(\"Ocak aynında hava çok soğuk\") \n",
    "# print() fonksiyonu ekrana yapmayı sağlar"
   ]
  },
  {
   "cell_type": "code",
   "execution_count": 6,
   "metadata": {},
   "outputs": [
    {
     "data": {
      "text/plain": [
       "'çoklu\\nyorum\\nsatırı'"
      ]
     },
     "execution_count": 6,
     "metadata": {},
     "output_type": "execute_result"
    }
   ],
   "source": [
    "'''çoklu\n",
    "yorum\n",
    "satırı'''\n",
    "# Jupyter'in printsiz ekrana yazı yazdırma fonksiyonu yüzünden \n",
    "# bu çoklu yorum satırı .py uzantılı dosyalarda çalışır.\n"
   ]
  }
 ],
 "metadata": {
  "kernelspec": {
   "display_name": "Python 3",
   "language": "python",
   "name": "python3"
  },
  "language_info": {
   "codemirror_mode": {
    "name": "ipython",
    "version": 3
   },
   "file_extension": ".py",
   "mimetype": "text/x-python",
   "name": "python",
   "nbconvert_exporter": "python",
   "pygments_lexer": "ipython3",
   "version": "3.11.1"
  },
  "orig_nbformat": 4,
  "vscode": {
   "interpreter": {
    "hash": "701ff2241ceae646732b1645173280069c74bbc33375d604aef0f5f117b7c504"
   }
  }
 },
 "nbformat": 4,
 "nbformat_minor": 2
}
